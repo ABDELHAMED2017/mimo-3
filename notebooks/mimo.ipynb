{
 "metadata": {
  "name": "",
  "signature": "sha256:ef556a7303f1a0f2206fabace119a2fdc41fae43c831e086f5b34aedcc2aeb30"
 },
 "nbformat": 3,
 "nbformat_minor": 0,
 "worksheets": [
  {
   "cells": [
    {
     "cell_type": "heading",
     "level": 1,
     "metadata": {},
     "source": [
      "Multi-Input Multi-Output (MIMO)"
     ]
    },
    {
     "cell_type": "code",
     "collapsed": false,
     "input": [
      "%pylab inline # to show plots within notebook"
     ],
     "language": "python",
     "metadata": {},
     "outputs": [
      {
       "output_type": "stream",
       "stream": "stdout",
       "text": [
        "Populating the interactive namespace from numpy and matplotlib\n"
       ]
      }
     ],
     "prompt_number": 19
    },
    {
     "cell_type": "code",
     "collapsed": false,
     "input": [
      "\"\"\"\n",
      "Multi-Input Multi-Output (MIMO) Channels\n",
      "Single User\n",
      "\n",
      "@author: Hassan\n",
      "\"\"\"\n",
      "\n",
      "from __future__ import division #makes float division default. for integer division, use //. e.g. 7//4=1\n",
      "\n",
      "import matplotlib\n",
      "#matplotlib.use('Agg') # force matplotlib to not use any Xwindows backend.\n",
      "# fixes the error \"no display name and no $DISPLAY environment variable\"\n",
      "# when code is run on Amazon Elastic Cloud Compute (EC2)\n",
      "\n",
      "from numpy import *\n",
      "from matplotlib.pyplot import *\n",
      "from numpy.fft import ifft, fftshift, fft\n",
      "from numpy.linalg import svd\n",
      "from numpy.linalg import eigvalsh #eigvalsh : eigenvalues of a symmetric or Hermitian (conjugate symmetric)\n",
      "\n",
      "from numpy.random import randint, standard_normal\n",
      "from numpy.linalg import det\n",
      "from numpy.linalg import inv # inverse\n",
      "from numpy.linalg import pinv # psuedo-inverse"
     ],
     "language": "python",
     "metadata": {},
     "outputs": [],
     "prompt_number": 6
    },
    {
     "cell_type": "heading",
     "level": 1,
     "metadata": {},
     "source": [
      "MIMO Channel (Single User)"
     ]
    },
    {
     "cell_type": "markdown",
     "metadata": {},
     "source": [
      "$$\n",
      "\\newcommand{\\x}{\\textbf{x}}\n",
      "\\newcommand{\\y}{\\textbf{y}}\n",
      "\\newcommand{\\GM}{\\textbf{G}}\n",
      "\\newcommand{\\HM}{\\textbf{H}}\n",
      "\\newcommand{\\rv}{\\textbf{r}}\n",
      "\\newcommand{\\n}{\\textbf{n}}\n",
      "\\newcommand{\\z}{\\textbf{z}}\n",
      "\\newcommand{\\g}{\\textbf{g}}\n",
      "$$\n",
      "\n",
      "\n",
      "The received signal is\n",
      "$$ \\rv = \\HM \\x + \\n $$"
     ]
    },
    {
     "cell_type": "heading",
     "level": 1,
     "metadata": {},
     "source": [
      "Optimal Receiver"
     ]
    },
    {
     "cell_type": "markdown",
     "metadata": {},
     "source": [
      "The information rate of the **optimal** receiver is\n",
      "$$ R_{\\text{opt}} = \\log(\\det(\\Sigma_r)) - \\log(\\det(\\Sigma_{r|x})) $$\n",
      "where\n",
      "$$ \\Sigma_r = \\HM \\Sigma_x \\HM^\\dagger + \\Sigma_n $$\n",
      "and\n",
      "$$ \\Sigma_{r|x} = \\Sigma_x $$"
     ]
    },
    {
     "cell_type": "code",
     "collapsed": false,
     "input": [
      "def info_rate_opt(H,Sigma_Z):\n",
      "    Sigma_Y = ( H.dot(H.conj().transpose()) + Sigma_Z )\n",
      "    Sigma_Y_X = ( Sigma_Z )\n",
      "    R = log(det( Sigma_Y )) -  log(det( Sigma_Y_X ))\n",
      "    \n",
      "    return real(R)"
     ],
     "language": "python",
     "metadata": {},
     "outputs": [],
     "prompt_number": 8
    },
    {
     "cell_type": "heading",
     "level": 1,
     "metadata": {},
     "source": [
      "Linear Receiver"
     ]
    },
    {
     "cell_type": "markdown",
     "metadata": {},
     "source": [
      "Consider a linear receiver. The processed received signal is\n",
      "$$\n",
      "\\begin{align}\n",
      "\\y \n",
      "&= \\GM \\rv \\\\\n",
      "&= \\GM (\\HM \\x + \\n) \n",
      "\\end{align}\n",
      "$$\n",
      "\n",
      "The information rate is\n",
      "$$\n",
      "R_{\\text{linear}} = \\sum_{k=1}^{K} I(\\x_{k}; \\y_{k})\n",
      "$$\n",
      "We have\n",
      "$$\n",
      "I(\\x_k; \\y_k) = [ \\log\\det(\\Sigma_{y,k}) - \\log\\det(\\Sigma_{y|x,k})]\n",
      "$$\n",
      "\n",
      "where the covariance matrices are given by\n",
      "$$\n",
      "\\begin{align}\n",
      "\\Sigma_{y,k} &= \\GM_k (\\HM \\Sigma_{x} \\HM^\\dagger + \\Sigma_{n,k}) \\GM^\\dagger_k \\\\\n",
      "\\Sigma_{y|x,k} &= \\GM_k (\\HM \\bar{\\Sigma}_{x,k} \\HM^\\dagger + \\Sigma_{n,k}) \\GM^\\dagger_k \\\\\n",
      "\\end{align}\n",
      "$$\n",
      "where\n",
      "$\\bar{\\Sigma}_{x,k}$ is the same as $\\Sigma_{x}$ except that the entries involving symbols from **layer?** $k$ are set to $0$.\n"
     ]
    },
    {
     "cell_type": "code",
     "collapsed": false,
     "input": [
      "def info_rate(G_RX,H,Sigma_Z):\n",
      "    m, n = H.shape\n",
      "    R_total = array(0)\n",
      "    for i in range(n):\n",
      "        G = G_RX[i,:].reshape((1,m))\n",
      "\n",
      "        Sigma_X = identity(n)\n",
      "        Sigma_Y = G.dot( \n",
      "        H.dot(Sigma_X).dot(H.conj().transpose()) + Sigma_Z \n",
      "        ).dot( G.conj().transpose() ) \n",
      "        \n",
      "        Sigma_X_bar = Sigma_X\n",
      "        Sigma_X_bar[i,i] = 0\n",
      "        Sigma_Y_X = G.dot( \n",
      "        H.dot(Sigma_X_bar).dot(H.conj().transpose()) + Sigma_Z \n",
      "        ).dot( G.conj().transpose() ) \n",
      "\n",
      "        H_Y = sum(log(eigvalsh(Sigma_Y)))\n",
      "        H_Y_X = sum(log(eigvalsh(Sigma_Y_X)))\n",
      "        R = H_Y - H_Y_X    \n",
      "\n",
      "        R_total = R_total + R\n",
      "    return real(R_total)"
     ],
     "language": "python",
     "metadata": {},
     "outputs": [],
     "prompt_number": 9
    },
    {
     "cell_type": "markdown",
     "metadata": {},
     "source": [
      "* Minimum Mean Square Error (MMSE)\n",
      "$$\n",
      "\\GM = \\Sigma_x \\HM^\\dagger (\\HM \\Sigma_x \\HM^\\dagger + \\Sigma_z)^{-1}\n",
      "$$\n",
      "* Zero-Forcing (ZF)\n",
      "$$\n",
      "\\GM = \\HM^{-1}\n",
      "$$\n",
      "* Matched Filter (MF)\n",
      "$$\n",
      "\\GM = \\HM\n",
      "$$"
     ]
    },
    {
     "cell_type": "code",
     "collapsed": false,
     "input": [
      "def rx_matrix(H,RX):\n",
      "    if RX == 'MF':\n",
      "        G = H.conj().transpose()\n",
      "    elif RX == 'ZF':\n",
      "        G = inv(H)  \n",
      "    elif RX == 'MMSE':\n",
      "        G = (H.conj().transpose()).dot(inv(\n",
      "        H.dot(H.conj().transpose()) + \n",
      "        Sigma_Z))\n",
      "    return G"
     ],
     "language": "python",
     "metadata": {},
     "outputs": [],
     "prompt_number": 21
    },
    {
     "cell_type": "heading",
     "level": 1,
     "metadata": {},
     "source": [
      "Simulation"
     ]
    },
    {
     "cell_type": "code",
     "collapsed": false,
     "input": [
      "# Generate a Rayleigh random variable (mean=0, variance=1)\n",
      "def rayleigh(m,n):\n",
      "    return sqrt(1/2) * (standard_normal((m,n)) + 1j * standard_normal((m,n)))"
     ],
     "language": "python",
     "metadata": {},
     "outputs": [],
     "prompt_number": 26
    },
    {
     "cell_type": "code",
     "collapsed": false,
     "input": [
      "NN = 2    \n",
      "H = rayleigh(NN,NN)\n",
      "SNR_dB = arange(-2,10,0.5)\n",
      "\n",
      "R_ZEROS = zeros( len(SNR_dB) )\n",
      "#RX_LIST = ['OPT','MMSE','ZF','MF']\n",
      "RX_LIST = ['MMSE','ZF','MF']\n",
      "RX = dict()\n",
      "for rx in ['OPT']+RX_LIST: \n",
      "    RX[rx] = array(R_ZEROS)\n",
      "\n",
      "for snr_index in range(len(SNR_dB)):\n",
      "    print \"SNR = \" + str(SNR_dB[snr_index]) + \" dB\"\n",
      "    SNR = 10**(SNR_dB[snr_index]/10)    #signal to noise ratio (linear)        \n",
      "    sigma2 = 1.0/SNR            #noise variance\n",
      "\n",
      "    Sigma_Z = sigma2 * identity(NN)\n",
      "\n",
      "    R = info_rate_opt(H,Sigma_Z)\n",
      "    RX['OPT'][snr_index] = R\n",
      "    #print 'R = %.2f' %(R)\n",
      "    \n",
      "    for rx in RX_LIST:\n",
      "        G_RX = rx_matrix(H, rx)\n",
      "        R = info_rate(G_RX,H,Sigma_Z)        \n",
      "        RX[rx][snr_index] = R\n",
      "        #print 'R = %.2f' %(R)"
     ],
     "language": "python",
     "metadata": {},
     "outputs": [
      {
       "output_type": "stream",
       "stream": "stdout",
       "text": [
        "SNR = -2.0 dB\n",
        "SNR = -1.5 dB\n",
        "SNR = -1.0 dB\n",
        "SNR = -0.5 dB\n",
        "SNR = 0.0 dB\n",
        "SNR = 0.5 dB\n",
        "SNR = 1.0 dB\n",
        "SNR = 1.5 dB\n",
        "SNR = 2.0 dB\n",
        "SNR = 2.5 dB\n",
        "SNR = 3.0 dB\n",
        "SNR = 3.5 dB\n",
        "SNR = 4.0 dB\n",
        "SNR = 4.5 dB\n",
        "SNR = 5.0 dB\n",
        "SNR = 5.5 dB\n",
        "SNR = 6.0 dB\n",
        "SNR = 6.5 dB\n",
        "SNR = 7.0 dB\n",
        "SNR = 7.5 dB\n",
        "SNR = 8.0 dB\n",
        "SNR = 8.5 dB\n",
        "SNR = 9.0 dB\n",
        "SNR = 9.5 dB\n"
       ]
      }
     ],
     "prompt_number": 29
    },
    {
     "cell_type": "code",
     "collapsed": false,
     "input": [
      "# Plot\n",
      "SNR = 10**(SNR_dB/10)\n",
      "R_SHANNON = log(1+SNR)\n",
      "line_style = {'OPT':'-','MMSE':'.-','ZF':'x-','MF':'+-'}\n",
      "for rx in ['OPT'] + RX_LIST:\n",
      "    plot(SNR_dB,RX[rx],line_style[rx],label=rx)\n",
      "xlabel('SNR (dB)')\n",
      "ylabel('Rate (nats/symbol)')\n",
      "legend(loc='upper left')"
     ],
     "language": "python",
     "metadata": {},
     "outputs": [
      {
       "metadata": {},
       "output_type": "pyout",
       "prompt_number": 30,
       "text": [
        "<matplotlib.legend.Legend at 0x9e88c88>"
       ]
      },
      {
       "metadata": {},
       "output_type": "display_data",
       "png": "[encoded data removed]",
       "text": [
        "<matplotlib.figure.Figure at 0xa7c6320>"
       ]
      }
     ],
     "prompt_number": 30
    }
   ],
   "metadata": {}
  }
 ]
}