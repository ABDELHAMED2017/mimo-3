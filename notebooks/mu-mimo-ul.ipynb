{
 "metadata": {
  "name": "",
  "signature": "sha256:3d50eaeca65b3fcff328ff2de0eda25722499f999ea199e4cd785f1d96159d4f"
 },
 "nbformat": 3,
 "nbformat_minor": 0,
 "worksheets": [
  {
   "cells": [
    {
     "cell_type": "heading",
     "level": 1,
     "metadata": {},
     "source": [
      "Multi-User MIMO Uplink"
     ]
    },
    {
     "cell_type": "code",
     "collapsed": false,
     "input": [
      "%pylab inline # to show plots within notebook"
     ],
     "language": "python",
     "metadata": {},
     "outputs": [
      {
       "output_type": "stream",
       "stream": "stderr",
       "text": [
        "UsageError: unrecognized arguments: # to show plots within notebook"
       ]
      }
     ],
     "prompt_number": 2
    },
    {
     "cell_type": "code",
     "collapsed": false,
     "input": [
      "\"\"\"\n",
      "Multi-Input Multi-Output (MIMO) Channels\n",
      "Multi-User\n",
      "Uplink\n",
      "2 2-antenna TX and a 2-antenna RX\n",
      "\n",
      "@author: Hassan\n",
      "\"\"\"\n",
      "\n",
      "from __future__ import division #makes float division default. for integer division, use //. e.g. 7//4=1\n",
      "\n",
      "from numpy import *\n",
      "from matplotlib.pyplot import *\n",
      "from numpy.fft import ifft, fftshift, fft\n",
      "from numpy.linalg import svd\n",
      "from numpy.linalg import eigvalsh #eigvalsh : eigenvalues of a symmetric or Hermitian (conjugate symmetric)\n",
      "\n",
      "from numpy.random import randint, standard_normal\n",
      "from numpy.linalg import det\n",
      "from numpy.linalg import inv # inverse\n",
      "from numpy.linalg import pinv # psuedo-inverse"
     ],
     "language": "python",
     "metadata": {},
     "outputs": []
    },
    {
     "cell_type": "heading",
     "level": 1,
     "metadata": {},
     "source": [
      "LaTeX Definitions"
     ]
    },
    {
     "cell_type": "markdown",
     "metadata": {},
     "source": [
      "Definitions are visible in Edit mode\n",
      "\n",
      "$$\n",
      "\\newcommand{\\x}{\\textbf{x}}\n",
      "\\newcommand{\\y}{\\textbf{y}}\n",
      "\\newcommand{\\GM}{\\textbf{G}}\n",
      "\\newcommand{\\HM}{\\textbf{H}}\n",
      "\\newcommand{\\rv}{\\textbf{r}}\n",
      "\\newcommand{\\n}{\\textbf{n}}\n",
      "\\newcommand{\\z}{\\textbf{z}}\n",
      "\\newcommand{\\g}{\\textbf{g}}\n",
      "\\newcommand{\\v}{\\textbf{v}}\n",
      "$$"
     ]
    },
    {
     "cell_type": "heading",
     "level": 1,
     "metadata": {},
     "source": [
      "MU-MIMO Uplink Channel"
     ]
    },
    {
     "cell_type": "markdown",
     "metadata": {},
     "source": [
      "\n",
      "The received signal is\n",
      "$$\n",
      "\\rv = \\HM_1 \\x_1 + \\HM_2 \\x_2 + \\n\n",
      "$$"
     ]
    },
    {
     "cell_type": "heading",
     "level": 1,
     "metadata": {},
     "source": [
      "Linear Receivers"
     ]
    },
    {
     "cell_type": "markdown",
     "metadata": {},
     "source": [
      "$$\n",
      "\\begin{align}\n",
      "\\y_1 &= \\GM_1 \\rv \\\\\n",
      "\\y_2 &= \\GM_2 \\rv\n",
      "\\end{align}\n",
      "$$\n",
      "\n",
      "* Minimum Mean Square Error (MMSE)\n",
      "$$\n",
      "\\GM_k = \n",
      "\\Sigma_x \\HM^\\dagger_k \n",
      "(\\HM_1 \\Sigma_{x,1} \\HM^\\dagger_1 + \\HM_2 \\Sigma_{x,2} \\HM^\\dagger_2 + \\Sigma_n)^{-1}\n",
      "$$\n",
      "* Zero-Forcing (ZF)\n",
      "$$\n",
      "\\GM_k = \\HM^{-1}_k\n",
      "$$\n",
      "* Matched Filter (MF)\n",
      "$$\n",
      "\\GM_k = \\HM_k^\\dagger\n",
      "$$"
     ]
    },
    {
     "cell_type": "code",
     "collapsed": false,
     "input": [
      "def rx_matrices(H1,H2,RX):\n",
      "    G_RX = list()\n",
      "    for H in [H1, H2]:\n",
      "        if RX == 'MF':\n",
      "            G = H.conj().transpose()\n",
      "        elif RX == 'ZF':\n",
      "            G = inv(H)  \n",
      "        elif RX == 'MMSE':\n",
      "            G = (H.conj().transpose()).dot(inv(\n",
      "            H1.dot(H1.conj().transpose()) + \n",
      "            H2.dot(H2.conj().transpose()) + \n",
      "            Sigma_Z))\n",
      "        G_RX.append(G)\n",
      "    return G_RX"
     ],
     "language": "python",
     "metadata": {},
     "outputs": []
    },
    {
     "cell_type": "heading",
     "level": 1,
     "metadata": {},
     "source": [
      "Informaiton Rate"
     ]
    },
    {
     "cell_type": "code",
     "collapsed": false,
     "input": [
      "def info_rate(G_RX,H,Sigma_Z): \n",
      "    #G_RX is a list for receicer processing matrices for all users\n",
      "    #H is a list for channel matrices\n",
      "    H1, H2 = H\n",
      "    \n",
      "    R_users = list()\n",
      "    for u in [0,1]: # 2 users\n",
      "        m, n = H[u].shape\n",
      "        R_total = array(0)\n",
      "        for i in range(n):\n",
      "            G = G_RX[u][i,:].reshape((1,m))\n",
      "    \n",
      "            R_x1 = identity(n)\n",
      "            R_x2 = identity(n)\n",
      "            Sigma_Y = G.dot( \n",
      "            H1.dot(R_x1).dot(H1.conj().transpose()) + \n",
      "            H2.dot(R_x2).dot(H2.conj().transpose()) + \n",
      "            Sigma_Z \n",
      "            ).dot( G.conj().transpose() ) \n",
      "            \n",
      "            if   u==0: # if user 1\n",
      "                R_x1[i,i] = 0\n",
      "            elif u==1: # if user 2\n",
      "                R_x2[i,i] = 0\n",
      "    \n",
      "            Sigma_Y_X = G.dot( \n",
      "            H1.dot(R_x1).dot(H1.conj().transpose()) + \n",
      "            H2.dot(R_x2).dot(H2.conj().transpose()) + \n",
      "            Sigma_Z \n",
      "            ).dot( G.conj().transpose() ) \n",
      "            \n",
      "            H_Y = sum(log(eigvalsh(Sigma_Y)))\n",
      "            H_Y_X = sum(log(eigvalsh(Sigma_Y_X)))\n",
      "            R = H_Y - H_Y_X    \n",
      "    \n",
      "            R_total = R_total + R\n",
      "            \n",
      "        R_users.append(R_total)          \n",
      "    return R_users\n"
     ],
     "language": "python",
     "metadata": {},
     "outputs": []
    },
    {
     "cell_type": "heading",
     "level": 1,
     "metadata": {},
     "source": [
      "Simulation"
     ]
    },
    {
     "cell_type": "code",
     "collapsed": false,
     "input": [
      "def rayleigh(m,n):\n",
      "    return sqrt(1/2) * (standard_normal((m,n)) + 1j * standard_normal((m,n)))\n",
      "\n",
      "\n",
      "NN = 2\n",
      "H1 = rayleigh(NN,NN)\n",
      "H2 = rayleigh(NN,NN)\n",
      "\n",
      "SNR_dB = arange(-2,10,0.5)\n",
      "R_ZEROS = zeros( len(SNR_dB) )\n",
      "#RX_LIST = ['OPT','MF','ZF','MMSE']\n",
      "RX_LIST = ['MF','ZF','MMSE']\n",
      "R_LIST = ['R1', 'R2', 'R_sum']\n",
      "RX = dict()\n",
      "for rx in RX_LIST: \n",
      "    RX[rx] = dict()\n",
      "    for r in R_LIST: RX[rx][r] = array(R_ZEROS)\n",
      "\n",
      "#%%\n",
      "for snr_index in range(len(SNR_dB)):\n",
      "    print \"SNR = \" + str(SNR_dB[snr_index]) + \" dB\"\n",
      "    SNR = 10**(SNR_dB[snr_index]/10)    #signal to noise ratio (linear)        \n",
      "    sigma2 = 1.0/SNR                    #noise variance\n",
      "\n",
      "    Sigma_Z = sigma2 * identity(NN)\n",
      "    \n",
      "    for rx in RX_LIST:\n",
      "        G_RX = rx_matrices(H1, H2, rx)\n",
      "        R1, R2 = info_rate(G_RX,[H1, H2],Sigma_Z)        \n",
      "        #R1, R2 = 0, 0\n",
      "        RX[rx]['R1'][snr_index] = R1\n",
      "        RX[rx]['R2'][snr_index] = R2\n",
      "        RX[rx]['R_sum'][snr_index] = R1 + R2\n",
      "    \n",
      "    #print 'R = %.2f' %(R)    \n",
      "\n",
      "# plot\n",
      "SNR = 10**(SNR_dB/10)\n",
      "R_SHANNON = log(1+SNR)\n",
      "#plot(SNR_dB,R_SHANNON,label='log(1+SNR)')\n",
      "#plot(SNR_dB,R_OPT ,'-',label='OPT')\n",
      "line_style = {'OPT':'-','MMSE':'.-','ZF':'x-','MF':'+-'}\n",
      "for rx in RX_LIST:\n",
      "    plot(SNR_dB,RX[rx]['R_sum'],line_style[rx],label=rx)\n",
      "xlabel('SNR (dB)')\n",
      "ylabel('Rate (nats/symbol)')\n",
      "legend(loc='upper left')"
     ],
     "language": "python",
     "metadata": {},
     "outputs": []
    }
   ],
   "metadata": {}
  }
 ]
}